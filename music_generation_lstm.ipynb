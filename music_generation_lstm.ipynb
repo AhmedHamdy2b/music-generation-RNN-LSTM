{
  "cells": [
    {
      "attachments": {},
      "cell_type": "markdown",
      "metadata": {
        "id": "uJHo_GbVd-cd"
      },
      "source": [
        "# Music generation with LSTM in Keras"
      ]
    },
    {
      "cell_type": "code",
      "execution_count": null,
      "metadata": {
        "id": "9FgsdSbLYJ37",
        "vscode": {
          "languageId": "python"
        }
      },
      "outputs": [],
      "source": [
        "# Set to false if you are not running\n",
        "# this notebook in Google Colaboratory\n",
        "run_on_colab = True"
      ]
    },
    {
      "attachments": {},
      "cell_type": "markdown",
      "metadata": {
        "id": "q4cCdRCwePQW"
      },
      "source": [
        "## Packages and data\n",
        "Instead of using raw MIDI files, we will process them to obtain only the information we need and discard the rest. \n",
        "\n",
        "That's why we will use [**music21 package**](http://web.mit.edu/music21/). This package contains a set of tools that let us work with MIDI files easily. \n",
        "It creates its own representation of a MIDI file, with different **Note** of **Chord** objects representing all the music inside a MIDI file. It's a representation easier to read than the MIDI one, so it will help our network to *understand* music and be able to create new compositions.\n",
        "\n",
        "Let's install it."
      ]
    },
    {
      "cell_type": "code",
      "execution_count": 2,
      "metadata": {
        "colab": {
          "base_uri": "https://localhost:8080/"
        },
        "id": "Wo4ARjCTdzA0",
        "outputId": "24094e78-6fa5-4a03-fac6-a4e1333205ba",
        "vscode": {
          "languageId": "python"
        }
      },
      "outputs": [
        {
          "name": "stdout",
          "output_type": "stream",
          "text": [
            "Looking in indexes: https://pypi.org/simple, https://us-python.pkg.dev/colab-wheels/public/simple/\n",
            "Requirement already satisfied: music21 in /usr/local/lib/python3.10/dist-packages (8.1.0)\n",
            "Requirement already satisfied: chardet in /usr/local/lib/python3.10/dist-packages (from music21) (4.0.0)\n",
            "Requirement already satisfied: joblib in /usr/local/lib/python3.10/dist-packages (from music21) (1.2.0)\n",
            "Requirement already satisfied: jsonpickle in /usr/local/lib/python3.10/dist-packages (from music21) (3.0.1)\n",
            "Requirement already satisfied: matplotlib in /usr/local/lib/python3.10/dist-packages (from music21) (3.7.1)\n",
            "Requirement already satisfied: more-itertools in /usr/local/lib/python3.10/dist-packages (from music21) (9.1.0)\n",
            "Requirement already satisfied: numpy in /usr/local/lib/python3.10/dist-packages (from music21) (1.22.4)\n",
            "Requirement already satisfied: requests in /usr/local/lib/python3.10/dist-packages (from music21) (2.27.1)\n",
            "Requirement already satisfied: webcolors>=1.5 in /usr/local/lib/python3.10/dist-packages (from music21) (1.13)\n",
            "Requirement already satisfied: contourpy>=1.0.1 in /usr/local/lib/python3.10/dist-packages (from matplotlib->music21) (1.0.7)\n",
            "Requirement already satisfied: cycler>=0.10 in /usr/local/lib/python3.10/dist-packages (from matplotlib->music21) (0.11.0)\n",
            "Requirement already satisfied: fonttools>=4.22.0 in /usr/local/lib/python3.10/dist-packages (from matplotlib->music21) (4.39.3)\n",
            "Requirement already satisfied: kiwisolver>=1.0.1 in /usr/local/lib/python3.10/dist-packages (from matplotlib->music21) (1.4.4)\n",
            "Requirement already satisfied: packaging>=20.0 in /usr/local/lib/python3.10/dist-packages (from matplotlib->music21) (23.1)\n",
            "Requirement already satisfied: pillow>=6.2.0 in /usr/local/lib/python3.10/dist-packages (from matplotlib->music21) (8.4.0)\n",
            "Requirement already satisfied: pyparsing>=2.3.1 in /usr/local/lib/python3.10/dist-packages (from matplotlib->music21) (3.0.9)\n",
            "Requirement already satisfied: python-dateutil>=2.7 in /usr/local/lib/python3.10/dist-packages (from matplotlib->music21) (2.8.2)\n",
            "Requirement already satisfied: urllib3<1.27,>=1.21.1 in /usr/local/lib/python3.10/dist-packages (from requests->music21) (1.26.15)\n",
            "Requirement already satisfied: certifi>=2017.4.17 in /usr/local/lib/python3.10/dist-packages (from requests->music21) (2022.12.7)\n",
            "Requirement already satisfied: charset-normalizer~=2.0.0 in /usr/local/lib/python3.10/dist-packages (from requests->music21) (2.0.12)\n",
            "Requirement already satisfied: idna<4,>=2.5 in /usr/local/lib/python3.10/dist-packages (from requests->music21) (3.4)\n",
            "Requirement already satisfied: six>=1.5 in /usr/local/lib/python3.10/dist-packages (from python-dateutil>=2.7->matplotlib->music21) (1.16.0)\n"
          ]
        }
      ],
      "source": [
        "!pip install music21;"
      ]
    },
    {
      "cell_type": "code",
      "execution_count": 3,
      "metadata": {
        "colab": {
          "base_uri": "https://localhost:8080/",
          "height": 73
        },
        "id": "IlcAs_63gupm",
        "outputId": "99d02c51-584d-45c4-d28f-8b9147784f16",
        "vscode": {
          "languageId": "python"
        }
      },
      "outputs": [
        {
          "data": {
            "text/html": [
              "\n",
              "     <input type=\"file\" id=\"files-a9690e45-d258-4e2e-9bec-87133b266f8e\" name=\"files[]\" multiple disabled\n",
              "        style=\"border:none\" />\n",
              "     <output id=\"result-a9690e45-d258-4e2e-9bec-87133b266f8e\">\n",
              "      Upload widget is only available when the cell has been executed in the\n",
              "      current browser session. Please rerun this cell to enable.\n",
              "      </output>\n",
              "      <script>// Copyright 2017 Google LLC\n",
              "//\n",
              "// Licensed under the Apache License, Version 2.0 (the \"License\");\n",
              "// you may not use this file except in compliance with the License.\n",
              "// You may obtain a copy of the License at\n",
              "//\n",
              "//      http://www.apache.org/licenses/LICENSE-2.0\n",
              "//\n",
              "// Unless required by applicable law or agreed to in writing, software\n",
              "// distributed under the License is distributed on an \"AS IS\" BASIS,\n",
              "// WITHOUT WARRANTIES OR CONDITIONS OF ANY KIND, either express or implied.\n",
              "// See the License for the specific language governing permissions and\n",
              "// limitations under the License.\n",
              "\n",
              "/**\n",
              " * @fileoverview Helpers for google.colab Python module.\n",
              " */\n",
              "(function(scope) {\n",
              "function span(text, styleAttributes = {}) {\n",
              "  const element = document.createElement('span');\n",
              "  element.textContent = text;\n",
              "  for (const key of Object.keys(styleAttributes)) {\n",
              "    element.style[key] = styleAttributes[key];\n",
              "  }\n",
              "  return element;\n",
              "}\n",
              "\n",
              "// Max number of bytes which will be uploaded at a time.\n",
              "const MAX_PAYLOAD_SIZE = 100 * 1024;\n",
              "\n",
              "function _uploadFiles(inputId, outputId) {\n",
              "  const steps = uploadFilesStep(inputId, outputId);\n",
              "  const outputElement = document.getElementById(outputId);\n",
              "  // Cache steps on the outputElement to make it available for the next call\n",
              "  // to uploadFilesContinue from Python.\n",
              "  outputElement.steps = steps;\n",
              "\n",
              "  return _uploadFilesContinue(outputId);\n",
              "}\n",
              "\n",
              "// This is roughly an async generator (not supported in the browser yet),\n",
              "// where there are multiple asynchronous steps and the Python side is going\n",
              "// to poll for completion of each step.\n",
              "// This uses a Promise to block the python side on completion of each step,\n",
              "// then passes the result of the previous step as the input to the next step.\n",
              "function _uploadFilesContinue(outputId) {\n",
              "  const outputElement = document.getElementById(outputId);\n",
              "  const steps = outputElement.steps;\n",
              "\n",
              "  const next = steps.next(outputElement.lastPromiseValue);\n",
              "  return Promise.resolve(next.value.promise).then((value) => {\n",
              "    // Cache the last promise value to make it available to the next\n",
              "    // step of the generator.\n",
              "    outputElement.lastPromiseValue = value;\n",
              "    return next.value.response;\n",
              "  });\n",
              "}\n",
              "\n",
              "/**\n",
              " * Generator function which is called between each async step of the upload\n",
              " * process.\n",
              " * @param {string} inputId Element ID of the input file picker element.\n",
              " * @param {string} outputId Element ID of the output display.\n",
              " * @return {!Iterable<!Object>} Iterable of next steps.\n",
              " */\n",
              "function* uploadFilesStep(inputId, outputId) {\n",
              "  const inputElement = document.getElementById(inputId);\n",
              "  inputElement.disabled = false;\n",
              "\n",
              "  const outputElement = document.getElementById(outputId);\n",
              "  outputElement.innerHTML = '';\n",
              "\n",
              "  const pickedPromise = new Promise((resolve) => {\n",
              "    inputElement.addEventListener('change', (e) => {\n",
              "      resolve(e.target.files);\n",
              "    });\n",
              "  });\n",
              "\n",
              "  const cancel = document.createElement('button');\n",
              "  inputElement.parentElement.appendChild(cancel);\n",
              "  cancel.textContent = 'Cancel upload';\n",
              "  const cancelPromise = new Promise((resolve) => {\n",
              "    cancel.onclick = () => {\n",
              "      resolve(null);\n",
              "    };\n",
              "  });\n",
              "\n",
              "  // Wait for the user to pick the files.\n",
              "  const files = yield {\n",
              "    promise: Promise.race([pickedPromise, cancelPromise]),\n",
              "    response: {\n",
              "      action: 'starting',\n",
              "    }\n",
              "  };\n",
              "\n",
              "  cancel.remove();\n",
              "\n",
              "  // Disable the input element since further picks are not allowed.\n",
              "  inputElement.disabled = true;\n",
              "\n",
              "  if (!files) {\n",
              "    return {\n",
              "      response: {\n",
              "        action: 'complete',\n",
              "      }\n",
              "    };\n",
              "  }\n",
              "\n",
              "  for (const file of files) {\n",
              "    const li = document.createElement('li');\n",
              "    li.append(span(file.name, {fontWeight: 'bold'}));\n",
              "    li.append(span(\n",
              "        `(${file.type || 'n/a'}) - ${file.size} bytes, ` +\n",
              "        `last modified: ${\n",
              "            file.lastModifiedDate ? file.lastModifiedDate.toLocaleDateString() :\n",
              "                                    'n/a'} - `));\n",
              "    const percent = span('0% done');\n",
              "    li.appendChild(percent);\n",
              "\n",
              "    outputElement.appendChild(li);\n",
              "\n",
              "    const fileDataPromise = new Promise((resolve) => {\n",
              "      const reader = new FileReader();\n",
              "      reader.onload = (e) => {\n",
              "        resolve(e.target.result);\n",
              "      };\n",
              "      reader.readAsArrayBuffer(file);\n",
              "    });\n",
              "    // Wait for the data to be ready.\n",
              "    let fileData = yield {\n",
              "      promise: fileDataPromise,\n",
              "      response: {\n",
              "        action: 'continue',\n",
              "      }\n",
              "    };\n",
              "\n",
              "    // Use a chunked sending to avoid message size limits. See b/62115660.\n",
              "    let position = 0;\n",
              "    do {\n",
              "      const length = Math.min(fileData.byteLength - position, MAX_PAYLOAD_SIZE);\n",
              "      const chunk = new Uint8Array(fileData, position, length);\n",
              "      position += length;\n",
              "\n",
              "      const base64 = btoa(String.fromCharCode.apply(null, chunk));\n",
              "      yield {\n",
              "        response: {\n",
              "          action: 'append',\n",
              "          file: file.name,\n",
              "          data: base64,\n",
              "        },\n",
              "      };\n",
              "\n",
              "      let percentDone = fileData.byteLength === 0 ?\n",
              "          100 :\n",
              "          Math.round((position / fileData.byteLength) * 100);\n",
              "      percent.textContent = `${percentDone}% done`;\n",
              "\n",
              "    } while (position < fileData.byteLength);\n",
              "  }\n",
              "\n",
              "  // All done.\n",
              "  yield {\n",
              "    response: {\n",
              "      action: 'complete',\n",
              "    }\n",
              "  };\n",
              "}\n",
              "\n",
              "scope.google = scope.google || {};\n",
              "scope.google.colab = scope.google.colab || {};\n",
              "scope.google.colab._files = {\n",
              "  _uploadFiles,\n",
              "  _uploadFilesContinue,\n",
              "};\n",
              "})(self);\n",
              "</script> "
            ],
            "text/plain": [
              "<IPython.core.display.HTML object>"
            ]
          },
          "metadata": {},
          "output_type": "display_data"
        },
        {
          "name": "stdout",
          "output_type": "stream",
          "text": [
            "Saving xmusic.zip to xmusic.zip\n"
          ]
        }
      ],
      "source": [
        "if(run_on_colab):\n",
        "  from google.colab import files\n",
        "  files.upload()\n"
      ]
    },
    {
      "cell_type": "code",
      "execution_count": 4,
      "metadata": {
        "colab": {
          "base_uri": "https://localhost:8080/"
        },
        "id": "i6rzo2WipNDv",
        "outputId": "9c0d0588-d701-4f8c-d02f-d6fa5a88ada8",
        "vscode": {
          "languageId": "python"
        }
      },
      "outputs": [
        {
          "name": "stdout",
          "output_type": "stream",
          "text": [
            "Archive:  xmusic.zip\n",
            "   creating: xmusic/\n",
            "  inflating: xmusic/AnimalSong.mid   \n",
            "  inflating: xmusic/AOD3.mid         \n",
            "  inflating: xmusic/AOD4.mid         \n",
            "  inflating: xmusic/AOD5.mid         \n",
            "  inflating: xmusic/Bearclaw.mid     \n",
            "  inflating: xmusic/bjorkoh_so_quiet.mid  \n",
            "  inflating: xmusic/BloodBrother.mid  \n",
            "  inflating: xmusic/BuffaloDance.mid  \n",
            "  inflating: xmusic/Cerosimo.mid     \n",
            "  inflating: xmusic/Crystals.mid     \n",
            "  inflating: xmusic/DistantDrums.mid  \n",
            "  inflating: xmusic/DrumsofThunder.mid  \n",
            "  inflating: xmusic/duran_duranrelax.mid  \n",
            "  inflating: xmusic/EarthandSky.mid  \n",
            "  inflating: xmusic/EarthMother.mid  \n",
            "  inflating: xmusic/FallingWater.mid  \n",
            "  inflating: xmusic/Firefly.mid      \n",
            "  inflating: xmusic/FourColors.mid   \n",
            "  inflating: xmusic/FrankMills_relax.mid  \n",
            "  inflating: xmusic/GreatDivide.mid  \n",
            "  inflating: xmusic/GreenbriarGlen.mid  \n",
            "  inflating: xmusic/HealingDoors.mid  \n",
            "  inflating: xmusic/HighNoon.mid     \n",
            "  inflating: xmusic/Lightwaves.mid   \n",
            "  inflating: xmusic/MaidenoftheWood.mid  \n",
            "  inflating: xmusic/MeanderingGarden.mid  \n",
            "  inflating: xmusic/MercyStreet.mid  \n",
            "  inflating: xmusic/Metukweasyn.mid  \n",
            "  inflating: xmusic/MH2.mid          \n",
            "  inflating: xmusic/MH3.mid          \n",
            "  inflating: xmusic/MH4.mid          \n",
            "  inflating: xmusic/Misc__relax.mid  \n",
            "  inflating: xmusic/MountainDreamer.mid  \n",
            "  inflating: xmusic/MysticWaters.mid  \n",
            "  inflating: xmusic/NearBalisShore.mid  \n",
            "  inflating: xmusic/Necromancer.mid  \n",
            "  inflating: xmusic/NExp.mid         \n",
            "  inflating: xmusic/NHeaven.mid      \n",
            "  inflating: xmusic/NLove.mid        \n",
            "  inflating: xmusic/Noz_Y2K.mid      \n",
            "  inflating: xmusic/OctoberMoon.mid  \n",
            "  inflating: xmusic/OhSoQuiet_Bjork.mid  \n",
            "  inflating: xmusic/oh_so_quiet.mid  \n",
            "  inflating: xmusic/PrairieWind.mid  \n",
            "  inflating: xmusic/quietmom.mid     \n",
            "  inflating: xmusic/QuietNights.mid  \n",
            "  inflating: xmusic/quiet_man.mid    \n",
            "  inflating: xmusic/Reach.mid        \n",
            "  inflating: xmusic/RELAX.mid        \n",
            "  inflating: xmusic/RisingSun.mid    \n",
            "  inflating: xmusic/RunningBear.mid  \n",
            "  inflating: xmusic/SacredGround.mid  \n",
            "  inflating: xmusic/SkyDog.mid       \n",
            "  inflating: xmusic/sleepwalk.mid    \n",
            "  inflating: xmusic/SongoftheWolf.mid  \n",
            "  inflating: xmusic/SpiritoftheWolf.mid  \n",
            "  inflating: xmusic/TheStand.mid     \n",
            "  inflating: xmusic/ThroughEagleEyes.mid  \n",
            "  inflating: xmusic/TrailofTears.mid  \n",
            "  inflating: xmusic/Whales.mid       \n",
            "  inflating: xmusic/WindintheWoods.mid  \n",
            "  inflating: xmusic/Winter94.mid     \n",
            "  inflating: xmusic/Wiseman.mid      \n"
          ]
        }
      ],
      "source": [
        "!unzip xmusic.zip;"
      ]
    },
    {
      "attachments": {},
      "cell_type": "markdown",
      "metadata": {
        "id": "VfXedNx5paKS"
      },
      "source": [
        "## Processing data\n",
        "\n",
        "Let's process the files, and load them into **music21**"
      ]
    },
    {
      "cell_type": "code",
      "execution_count": 5,
      "metadata": {
        "id": "bNID-MfGglBp",
        "vscode": {
          "languageId": "python"
        }
      },
      "outputs": [],
      "source": [
        "# Importing dependencies\n",
        "import glob\n",
        "import pickle\n",
        "import numpy\n",
        "from music21 import converter, instrument, note, chord, stream\n",
        "from keras.models import Sequential\n",
        "from keras.layers import Dense, Dropout, LSTM, Activation\n",
        "from keras.utils import np_utils\n",
        "from keras.callbacks import ModelCheckpoint"
      ]
    },
    {
      "attachments": {},
      "cell_type": "markdown",
      "metadata": {
        "id": "UvQHUqw0t8MM"
      },
      "source": [
        "Let's see how **music21** represents music.\n",
        "As we can see below, we have, two different kind of elements:\n",
        "- **Notes**\n",
        "- **Chords**\n",
        "\n",
        "We also have the time offset of each element. This is the time when the note or chord must be played."
      ]
    },
    {
      "cell_type": "code",
      "execution_count": 6,
      "metadata": {
        "colab": {
          "base_uri": "https://localhost:8080/"
        },
        "id": "yxLB-WnEuBlR",
        "outputId": "0f9f107f-7435-4695-d671-62832be942fc",
        "vscode": {
          "languageId": "python"
        }
      },
      "outputs": [
        {
          "name": "stderr",
          "output_type": "stream",
          "text": [
            "/usr/local/lib/python3.10/dist-packages/music21/midi/translate.py:863: TranslateWarning: Unable to determine instrument from <music21.midi.MidiEvent SEQUENCE_TRACK_NAME, track=23, channel=None, data=b'\\xa92000 \\x8elan michaels'>; getting generic Instrument\n",
            "  warnings.warn(\n"
          ]
        },
        {
          "name": "stdout",
          "output_type": "stream",
          "text": [
            "<music21.chord.Chord C4 E4> 0.5\n",
            "<music21.note.Note F> 0.5\n",
            "<music21.chord.Chord E4 C4> 5/3\n",
            "<music21.note.Note F> 2.25\n",
            "<music21.chord.Chord C6 A5 D6> 2.5\n",
            "<music21.chord.Chord D4 B3> 8/3\n",
            "<music21.note.Note F> 3.25\n",
            "<music21.chord.Chord D4 B3> 3.75\n",
            "<music21.note.Note F> 4.0\n",
            "<music21.chord.Chord C6 A5 D6> 4.0\n"
          ]
        }
      ],
      "source": [
        "file = \"/content/xmusic/Crystals.mid\"\n",
        "midi = converter.parse(file)\n",
        "notes_to_parse = midi.flat.notes\n",
        "for element in notes_to_parse[:10]:\n",
        "  print(element, element.offset)"
      ]
    },
    {
      "cell_type": "code",
      "execution_count": 7,
      "metadata": {
        "colab": {
          "base_uri": "https://localhost:8080/"
        },
        "id": "UgaL_DwL9V0P",
        "outputId": "f958b885-1817-4a8a-c2a8-d2ef8021aae0",
        "vscode": {
          "languageId": "python"
        }
      },
      "outputs": [
        {
          "name": "stdout",
          "output_type": "stream",
          "text": [
            "\r Parsing file  0   /content/xmusic/MH3.mid"
          ]
        },
        {
          "name": "stderr",
          "output_type": "stream",
          "text": [
            "/usr/local/lib/python3.10/dist-packages/music21/midi/translate.py:863: TranslateWarning: Unable to determine instrument from <music21.midi.MidiEvent SEQUENCE_TRACK_NAME, track=15, channel=None, data=b'\\xa91998 \\x8elan michaels'>; getting generic Instrument\n",
            "  warnings.warn(\n"
          ]
        },
        {
          "name": "stdout",
          "output_type": "stream",
          "text": [
            "\r Parsing file  1   /content/xmusic/BuffaloDance.mid"
          ]
        },
        {
          "name": "stderr",
          "output_type": "stream",
          "text": [
            "/usr/local/lib/python3.10/dist-packages/music21/midi/translate.py:863: TranslateWarning: Unable to determine instrument from <music21.midi.MidiEvent SEQUENCE_TRACK_NAME, track=20, channel=None, data=b'\\xa91998 \\x8elan michaels'>; getting generic Instrument\n",
            "  warnings.warn(\n"
          ]
        },
        {
          "name": "stdout",
          "output_type": "stream",
          "text": [
            " Parsing file  5   /content/xmusic/Crystals.mid"
          ]
        },
        {
          "name": "stderr",
          "output_type": "stream",
          "text": [
            "/usr/local/lib/python3.10/dist-packages/music21/midi/translate.py:863: TranslateWarning: Unable to determine instrument from <music21.midi.MidiEvent SEQUENCE_TRACK_NAME, track=19, channel=None, data=b'\\xa91998 \\x8elan michaels'>; getting generic Instrument\n",
            "  warnings.warn(\n"
          ]
        },
        {
          "name": "stdout",
          "output_type": "stream",
          "text": [
            "\r Parsing file  6   /content/xmusic/SkyDog.mid"
          ]
        },
        {
          "name": "stderr",
          "output_type": "stream",
          "text": [
            "/usr/local/lib/python3.10/dist-packages/music21/midi/translate.py:863: TranslateWarning: Unable to determine instrument from <music21.midi.MidiEvent SEQUENCE_TRACK_NAME, track=15, channel=None, data=b'\\xa91998 \\x8elan michaels '>; getting generic Instrument\n",
            "  warnings.warn(\n"
          ]
        },
        {
          "name": "stdout",
          "output_type": "stream",
          "text": [
            " Parsing file  9   /content/xmusic/EarthandSky.mid"
          ]
        },
        {
          "name": "stderr",
          "output_type": "stream",
          "text": [
            "/usr/local/lib/python3.10/dist-packages/music21/midi/translate.py:863: TranslateWarning: Unable to determine instrument from <music21.midi.MidiEvent SEQUENCE_TRACK_NAME, track=24, channel=None, data=b'\\xa92000  \\x8elan michaels'>; getting generic Instrument\n",
            "  warnings.warn(\n"
          ]
        },
        {
          "name": "stdout",
          "output_type": "stream",
          "text": [
            "\r Parsing file  10   /content/xmusic/Reach.mid"
          ]
        },
        {
          "name": "stderr",
          "output_type": "stream",
          "text": [
            "/usr/local/lib/python3.10/dist-packages/music21/midi/translate.py:863: TranslateWarning: Unable to determine instrument from <music21.midi.MidiEvent SEQUENCE_TRACK_NAME, track=17, channel=None, data=b'\\xa91998 \\x8elan michaels'>; getting generic Instrument\n",
            "  warnings.warn(\n"
          ]
        },
        {
          "name": "stdout",
          "output_type": "stream",
          "text": [
            " Parsing file  12   /content/xmusic/NHeaven.mid"
          ]
        },
        {
          "name": "stderr",
          "output_type": "stream",
          "text": [
            "/usr/local/lib/python3.10/dist-packages/music21/midi/translate.py:863: TranslateWarning: Unable to determine instrument from <music21.midi.MidiEvent SEQUENCE_TRACK_NAME, track=16, channel=None, data=b'\\xa91998 \\x8elan michaels'>; getting generic Instrument\n",
            "  warnings.warn(\n"
          ]
        },
        {
          "name": "stdout",
          "output_type": "stream",
          "text": [
            " Parsing file  16   /content/xmusic/OctoberMoon.mid"
          ]
        },
        {
          "name": "stderr",
          "output_type": "stream",
          "text": [
            "/usr/local/lib/python3.10/dist-packages/music21/midi/translate.py:863: TranslateWarning: Unable to determine instrument from <music21.midi.MidiEvent SEQUENCE_TRACK_NAME, track=18, channel=None, data=b'\\xa91998 \\x8elan michaels'>; getting generic Instrument\n",
            "  warnings.warn(\n"
          ]
        },
        {
          "name": "stdout",
          "output_type": "stream",
          "text": [
            " Parsing file  18   /content/xmusic/FallingWater.mid"
          ]
        },
        {
          "name": "stderr",
          "output_type": "stream",
          "text": [
            "/usr/local/lib/python3.10/dist-packages/music21/midi/translate.py:863: TranslateWarning: Unable to determine instrument from <music21.midi.MidiEvent SEQUENCE_TRACK_NAME, track=16, channel=None, data=b'\\xa92001 \\x8elan michaels'>; getting generic Instrument\n",
            "  warnings.warn(\n"
          ]
        },
        {
          "name": "stdout",
          "output_type": "stream",
          "text": [
            "\r Parsing file  19   /content/xmusic/Firefly.mid"
          ]
        },
        {
          "name": "stderr",
          "output_type": "stream",
          "text": [
            "/usr/local/lib/python3.10/dist-packages/music21/midi/translate.py:863: TranslateWarning: Unable to determine instrument from <music21.midi.MidiEvent SEQUENCE_TRACK_NAME, track=16, channel=None, data=b'\\xa92000  \\x8elan michaels'>; getting generic Instrument\n",
            "  warnings.warn(\n"
          ]
        },
        {
          "name": "stdout",
          "output_type": "stream",
          "text": [
            "\r Parsing file  20   /content/xmusic/TrailofTears.mid"
          ]
        },
        {
          "name": "stderr",
          "output_type": "stream",
          "text": [
            "/usr/local/lib/python3.10/dist-packages/music21/midi/translate.py:863: TranslateWarning: Unable to determine instrument from <music21.midi.MidiEvent SEQUENCE_TRACK_NAME, track=23, channel=None, data=b'\\xa91998 \\x8elan michaels'>; getting generic Instrument\n",
            "  warnings.warn(\n"
          ]
        },
        {
          "name": "stdout",
          "output_type": "stream",
          "text": [
            " Parsing file  24   /content/xmusic/RELAX.mid"
          ]
        },
        {
          "name": "stderr",
          "output_type": "stream",
          "text": [
            "/usr/local/lib/python3.10/dist-packages/music21/midi/translate.py:863: TranslateWarning: Unable to determine instrument from <music21.midi.MidiEvent SEQUENCE_TRACK_NAME, track=16, channel=None, data=b'\\xa91998 elan michaels'>; getting generic Instrument\n",
            "  warnings.warn(\n"
          ]
        },
        {
          "name": "stdout",
          "output_type": "stream",
          "text": [
            " Parsing file  26   /content/xmusic/OhSoQuiet_Bjork.mid"
          ]
        },
        {
          "name": "stderr",
          "output_type": "stream",
          "text": [
            "/usr/local/lib/python3.10/dist-packages/music21/midi/translate.py:863: TranslateWarning: Unable to determine instrument from <music21.midi.MidiEvent SEQUENCE_TRACK_NAME, track=19, channel=None, data=b'\\xa92000 \\x8elan michaels'>; getting generic Instrument\n",
            "  warnings.warn(\n"
          ]
        },
        {
          "name": "stdout",
          "output_type": "stream",
          "text": [
            " Parsing file  29   /content/xmusic/MaidenoftheWood.mid"
          ]
        },
        {
          "name": "stderr",
          "output_type": "stream",
          "text": [
            "/usr/local/lib/python3.10/dist-packages/music21/midi/translate.py:863: TranslateWarning: Unable to determine instrument from <music21.midi.MidiEvent SEQUENCE_TRACK_NAME, track=12, channel=None, data=b'\\xa92000 \\x8elan michaels'>; getting generic Instrument\n",
            "  warnings.warn(\n"
          ]
        },
        {
          "name": "stdout",
          "output_type": "stream",
          "text": [
            "\r Parsing file  30   /content/xmusic/FourColors.mid"
          ]
        },
        {
          "name": "stderr",
          "output_type": "stream",
          "text": [
            "/usr/local/lib/python3.10/dist-packages/music21/midi/translate.py:863: TranslateWarning: Unable to determine instrument from <music21.midi.MidiEvent SEQUENCE_TRACK_NAME, track=20, channel=None, data=b'Triangle/Clav\\x8e'>; getting generic Instrument\n",
            "  warnings.warn(\n",
            "/usr/local/lib/python3.10/dist-packages/music21/midi/translate.py:863: TranslateWarning: Unable to determine instrument from <music21.midi.MidiEvent SEQUENCE_TRACK_NAME, track=25, channel=None, data=b'\\xa91998 elan michaels'>; getting generic Instrument\n",
            "  warnings.warn(\n"
          ]
        },
        {
          "name": "stdout",
          "output_type": "stream",
          "text": [
            " Parsing file  32   /content/xmusic/Metukweasyn.mid"
          ]
        },
        {
          "name": "stderr",
          "output_type": "stream",
          "text": [
            "/usr/local/lib/python3.10/dist-packages/music21/midi/translate.py:863: TranslateWarning: Unable to determine instrument from <music21.midi.MidiEvent SEQUENCE_TRACK_NAME, track=21, channel=None, data=b'\\xa92000 \\x8elan michaels'>; getting generic Instrument\n",
            "  warnings.warn(\n"
          ]
        },
        {
          "name": "stdout",
          "output_type": "stream",
          "text": [
            " Parsing file  35   /content/xmusic/quiet_man.mid"
          ]
        },
        {
          "name": "stderr",
          "output_type": "stream",
          "text": [
            "/usr/local/lib/python3.10/dist-packages/music21/midi/translate.py:863: TranslateWarning: Unable to determine instrument from <music21.midi.MidiEvent SEQUENCE_TRACK_NAME, track=20, channel=None, data=b'\\xa92000 \\x8elan michaels'>; getting generic Instrument\n",
            "  warnings.warn(\n"
          ]
        },
        {
          "name": "stdout",
          "output_type": "stream",
          "text": [
            " Parsing file  38   /content/xmusic/oh_so_quiet.mid"
          ]
        },
        {
          "name": "stderr",
          "output_type": "stream",
          "text": [
            "/usr/local/lib/python3.10/dist-packages/music21/midi/translate.py:863: TranslateWarning: Unable to determine instrument from <music21.midi.MidiEvent SEQUENCE_TRACK_NAME, track=14, channel=None, data=b'\\xa92000 \\x8elan michaels'>; getting generic Instrument\n",
            "  warnings.warn(\n"
          ]
        },
        {
          "name": "stdout",
          "output_type": "stream",
          "text": [
            " Parsing file  41   /content/xmusic/NExp.mid"
          ]
        },
        {
          "name": "stderr",
          "output_type": "stream",
          "text": [
            "/usr/local/lib/python3.10/dist-packages/music21/midi/translate.py:863: TranslateWarning: Unable to determine instrument from <music21.midi.MidiEvent SEQUENCE_TRACK_NAME, track=15, channel=None, data=b'\\xa92000 \\x8elan michaels'>; getting generic Instrument\n",
            "  warnings.warn(\n"
          ]
        },
        {
          "name": "stdout",
          "output_type": "stream",
          "text": [
            " Parsing file  46   /content/xmusic/MysticWaters.mid"
          ]
        },
        {
          "name": "stderr",
          "output_type": "stream",
          "text": [
            "/usr/local/lib/python3.10/dist-packages/music21/midi/translate.py:863: TranslateWarning: Unable to determine instrument from <music21.midi.MidiEvent SEQUENCE_TRACK_NAME, track=21, channel=None, data=b'\\xa91998   \\x8elan michaels'>; getting generic Instrument\n",
            "  warnings.warn(\n"
          ]
        },
        {
          "name": "stdout",
          "output_type": "stream",
          "text": [
            " Parsing file  52   /content/xmusic/duran_duranrelax.mid"
          ]
        },
        {
          "name": "stderr",
          "output_type": "stream",
          "text": [
            "/usr/local/lib/python3.10/dist-packages/music21/midi/translate.py:863: TranslateWarning: Unable to determine instrument from <music21.midi.MidiEvent SEQUENCE_TRACK_NAME, track=29, channel=None, data=b'\\xa91998 \\x8elan michaels'>; getting generic Instrument\n",
            "  warnings.warn(\n"
          ]
        },
        {
          "name": "stdout",
          "output_type": "stream",
          "text": [
            " Parsing file  55   /content/xmusic/MH4.mid"
          ]
        },
        {
          "name": "stderr",
          "output_type": "stream",
          "text": [
            "/usr/local/lib/python3.10/dist-packages/music21/midi/translate.py:863: TranslateWarning: Unable to determine instrument from <music21.midi.MidiEvent SEQUENCE_TRACK_NAME, track=12, channel=None, data=b'\\xa91998 \\x8elan michaels'>; getting generic Instrument\n",
            "  warnings.warn(\n"
          ]
        },
        {
          "name": "stdout",
          "output_type": "stream",
          "text": [
            " Parsing file  57   /content/xmusic/Cerosimo.mid"
          ]
        },
        {
          "name": "stderr",
          "output_type": "stream",
          "text": [
            "/usr/local/lib/python3.10/dist-packages/music21/midi/translate.py:863: TranslateWarning: Unable to determine instrument from <music21.midi.MidiEvent SEQUENCE_TRACK_NAME, track=15, channel=None, data=b'\\xa92001 \\x8elan michaels'>; getting generic Instrument\n",
            "  warnings.warn(\n"
          ]
        },
        {
          "name": "stdout",
          "output_type": "stream",
          "text": [
            " Parsing file  59   /content/xmusic/DrumsofThunder.mid"
          ]
        },
        {
          "name": "stderr",
          "output_type": "stream",
          "text": [
            "/usr/local/lib/python3.10/dist-packages/music21/midi/translate.py:863: TranslateWarning: Unable to determine instrument from <music21.midi.MidiEvent SEQUENCE_TRACK_NAME, track=15, channel=None, data=b'@2000 \\x8elan michaels'>; getting generic Instrument\n",
            "  warnings.warn(\n"
          ]
        },
        {
          "name": "stdout",
          "output_type": "stream",
          "text": [
            " Parsing file  62   /content/xmusic/Winter94.mid"
          ]
        }
      ],
      "source": [
        "notes = []\n",
        "for i,file in enumerate(glob.glob(\"/content/xmusic/*.mid\")):\n",
        "  midi = converter.parse(file)\n",
        "  print('\\r', 'Parsing file ', i, \" \",file, end='')\n",
        "  notes_to_parse = None\n",
        "  try: # file has instrument parts\n",
        "    s2 = instrument.partitionByInstrument(midi)\n",
        "    notes_to_parse = s2.parts[0].recurse() \n",
        "  except: # file has notes in a flat structure\n",
        "    notes_to_parse = midi.flat.notes\n",
        "  for element in notes_to_parse:\n",
        "    if isinstance(element, note.Note):\n",
        "      notes.append(str(element.pitch))\n",
        "    elif isinstance(element, chord.Chord):\n",
        "      notes.append('.'.join(str(n) for n in element.normalOrder))\n",
        "with open('notes', 'wb') as filepath:\n",
        "  pickle.dump(notes, filepath)"
      ]
    },
    {
      "attachments": {},
      "cell_type": "markdown",
      "metadata": {
        "id": "gHrD-1RijteB"
      },
      "source": [
        "We obtain the number of different notes in our dataset, because this will be the **number of possible output classes**  of our model."
      ]
    },
    {
      "cell_type": "code",
      "execution_count": 8,
      "metadata": {
        "colab": {
          "base_uri": "https://localhost:8080/"
        },
        "id": "7Lho6SJW8HP3",
        "outputId": "6c808892-89fb-442a-f623-5360b7d1247d",
        "vscode": {
          "languageId": "python"
        }
      },
      "outputs": [
        {
          "data": {
            "text/plain": [
              "217"
            ]
          },
          "execution_count": 8,
          "metadata": {},
          "output_type": "execute_result"
        }
      ],
      "source": [
        "# Count different possible outputs\n",
        "n_vocab = (len(set(notes)))\n",
        "n_vocab"
      ]
    },
    {
      "cell_type": "code",
      "execution_count": 9,
      "metadata": {
        "id": "K7ewLUx0-vJw",
        "vscode": {
          "languageId": "python"
        }
      },
      "outputs": [],
      "source": [
        "sequence_length = 100\n",
        "# get all pitch names\n",
        "pitchnames = sorted(set(item for item in notes))\n",
        "# create a dictionary to map pitches to integers\n",
        "note_to_int = dict((note, number) for number, note in enumerate(pitchnames))\n",
        "network_input = []\n",
        "network_output = []\n",
        "# create input sequences and the corresponding outputs\n",
        "for i in range(0, len(notes) - sequence_length, 1):\n",
        "  sequence_in = notes[i:i + sequence_length] # Size sequence_length\n",
        "  sequence_out = notes[i + sequence_length]  # Size 1\n",
        "  # Map pitches of sequence_in to integers\n",
        "  network_input.append([note_to_int[char] for char in sequence_in])\n",
        "  # Map integer of sequence_out to an integer\n",
        "  network_output.append(note_to_int[sequence_out])\n",
        "n_patterns = len(network_input)\n",
        "# reshape the input into a format compatible with LSTM layers\n",
        "network_input = numpy.reshape(network_input, (n_patterns, sequence_length, 1))\n",
        "# normalize input\n",
        "network_input = network_input / float(n_vocab)\n",
        "network_output = np_utils.to_categorical(network_output)"
      ]
    },
    {
      "attachments": {},
      "cell_type": "markdown",
      "metadata": {
        "id": "cvkOsHQN1P51"
      },
      "source": [
        "Let's see the new metwork_input size"
      ]
    },
    {
      "cell_type": "code",
      "execution_count": 10,
      "metadata": {
        "colab": {
          "base_uri": "https://localhost:8080/"
        },
        "id": "bppzcWdM1Sk-",
        "outputId": "bf972aeb-dc89-46dd-a391-a6586f632511",
        "vscode": {
          "languageId": "python"
        }
      },
      "outputs": [
        {
          "data": {
            "text/plain": [
              "(37225, 100, 1)"
            ]
          },
          "execution_count": 10,
          "metadata": {},
          "output_type": "execute_result"
        }
      ],
      "source": [
        "network_input.shape"
      ]
    },
    {
      "attachments": {},
      "cell_type": "markdown",
      "metadata": {
        "id": "AfzYkhxEuY8D"
      },
      "source": [
        "## Creating model\n",
        "\n",
        "Let's create the network. We will create a network with 9 layers (3 of them **LSTM layers**).\n",
        "\n",
        "For regularization, we will also add 2 **Dropout** layers"
      ]
    },
    {
      "cell_type": "code",
      "execution_count": 11,
      "metadata": {
        "id": "IH2fW6Ot-vN-",
        "vscode": {
          "languageId": "python"
        }
      },
      "outputs": [],
      "source": [
        "def create_network(network_input, n_vocab):\n",
        "    \"\"\" create the structure of the neural network \"\"\"\n",
        "    model = Sequential()\n",
        "    model.add(LSTM(\n",
        "        512,\n",
        "        input_shape=(network_input.shape[1], network_input.shape[2]),\n",
        "        return_sequences=True\n",
        "    ))\n",
        "    model.add(Dropout(0.3))\n",
        "    model.add(LSTM(512, return_sequences=True))\n",
        "    model.add(Dropout(0.3))\n",
        "    model.add(LSTM(512))\n",
        "    model.add(Dense(256))\n",
        "    model.add(Dropout(0.3))\n",
        "    model.add(Dense(n_vocab))\n",
        "    model.add(Activation('softmax'))\n",
        "    model.compile(loss='categorical_crossentropy', optimizer='rmsprop')\n",
        "    return model"
      ]
    },
    {
      "cell_type": "code",
      "execution_count": 12,
      "metadata": {
        "colab": {
          "base_uri": "https://localhost:8080/"
        },
        "id": "yO5HenQR1zwr",
        "outputId": "ccc8a5b1-e757-4360-ea19-5f405fff7d67",
        "vscode": {
          "languageId": "python"
        }
      },
      "outputs": [
        {
          "name": "stdout",
          "output_type": "stream",
          "text": [
            "Model: \"sequential\"\n",
            "_________________________________________________________________\n",
            " Layer (type)                Output Shape              Param #   \n",
            "=================================================================\n",
            " lstm (LSTM)                 (None, 100, 512)          1052672   \n",
            "                                                                 \n",
            " dropout (Dropout)           (None, 100, 512)          0         \n",
            "                                                                 \n",
            " lstm_1 (LSTM)               (None, 100, 512)          2099200   \n",
            "                                                                 \n",
            " dropout_1 (Dropout)         (None, 100, 512)          0         \n",
            "                                                                 \n",
            " lstm_2 (LSTM)               (None, 512)               2099200   \n",
            "                                                                 \n",
            " dense (Dense)               (None, 256)               131328    \n",
            "                                                                 \n",
            " dropout_2 (Dropout)         (None, 256)               0         \n",
            "                                                                 \n",
            " dense_1 (Dense)             (None, 217)               55769     \n",
            "                                                                 \n",
            " activation (Activation)     (None, 217)               0         \n",
            "                                                                 \n",
            "=================================================================\n",
            "Total params: 5,438,169\n",
            "Trainable params: 5,438,169\n",
            "Non-trainable params: 0\n",
            "_________________________________________________________________\n"
          ]
        }
      ],
      "source": [
        "model = create_network(network_input,n_vocab)\n",
        "model.summary()"
      ]
    },
    {
      "cell_type": "code",
      "execution_count": 13,
      "metadata": {
        "id": "EvkVdhBW-voq",
        "vscode": {
          "languageId": "python"
        }
      },
      "outputs": [],
      "source": [
        "# In case we want to use previously trained weights\n",
        "weights = \"\"\n",
        "if(len(weights)>0): model.load_weights(weights)"
      ]
    },
    {
      "cell_type": "code",
      "execution_count": 14,
      "metadata": {
        "colab": {
          "base_uri": "https://localhost:8080/"
        },
        "id": "tpv-8gT3-vrM",
        "outputId": "64c23909-2f80-4a6a-c3c9-a0e4e7db89ec",
        "vscode": {
          "languageId": "python"
        }
      },
      "outputs": [
        {
          "name": "stdout",
          "output_type": "stream",
          "text": [
            "Epoch 1/100\n",
            "582/582 [==============================] - 54s 76ms/step - loss: 4.0905\n",
            "Epoch 2/100\n",
            "582/582 [==============================] - 47s 80ms/step - loss: 3.9445\n",
            "Epoch 3/100\n",
            "582/582 [==============================] - 47s 81ms/step - loss: 3.7723\n",
            "Epoch 4/100\n",
            "582/582 [==============================] - 47s 81ms/step - loss: 3.4315\n",
            "Epoch 5/100\n",
            "582/582 [==============================] - 47s 81ms/step - loss: 3.0211\n",
            "Epoch 6/100\n",
            "582/582 [==============================] - 47s 81ms/step - loss: 2.6605\n",
            "Epoch 7/100\n",
            "582/582 [==============================] - 47s 81ms/step - loss: 2.4040\n",
            "Epoch 8/100\n",
            "582/582 [==============================] - 47s 81ms/step - loss: 2.2362\n",
            "Epoch 9/100\n",
            "582/582 [==============================] - 47s 81ms/step - loss: 2.0730\n",
            "Epoch 10/100\n",
            "582/582 [==============================] - 47s 81ms/step - loss: 1.9591\n",
            "Epoch 11/100\n",
            "582/582 [==============================] - 47s 81ms/step - loss: 1.8534\n",
            "Epoch 12/100\n",
            "582/582 [==============================] - 47s 81ms/step - loss: 1.7492\n",
            "Epoch 13/100\n",
            "582/582 [==============================] - 47s 81ms/step - loss: 1.6634\n",
            "Epoch 14/100\n",
            "582/582 [==============================] - 47s 81ms/step - loss: 1.5852\n",
            "Epoch 15/100\n",
            "582/582 [==============================] - 47s 81ms/step - loss: 1.5167\n",
            "Epoch 16/100\n",
            "582/582 [==============================] - 47s 81ms/step - loss: 1.4541\n",
            "Epoch 17/100\n",
            "582/582 [==============================] - 47s 81ms/step - loss: 1.3949\n",
            "Epoch 18/100\n",
            "582/582 [==============================] - 47s 81ms/step - loss: 1.3212\n",
            "Epoch 19/100\n",
            "582/582 [==============================] - 47s 81ms/step - loss: 1.2554\n",
            "Epoch 20/100\n",
            "582/582 [==============================] - 47s 81ms/step - loss: 1.1983\n",
            "Epoch 21/100\n",
            "582/582 [==============================] - 47s 82ms/step - loss: 1.1403\n",
            "Epoch 22/100\n",
            "582/582 [==============================] - 47s 81ms/step - loss: 1.0854\n",
            "Epoch 23/100\n",
            "582/582 [==============================] - 47s 81ms/step - loss: 1.0326\n",
            "Epoch 24/100\n",
            "582/582 [==============================] - 47s 81ms/step - loss: 0.9742\n",
            "Epoch 25/100\n",
            "582/582 [==============================] - 47s 81ms/step - loss: 0.9282\n",
            "Epoch 26/100\n",
            "582/582 [==============================] - 47s 81ms/step - loss: 0.8648\n",
            "Epoch 27/100\n",
            "582/582 [==============================] - 47s 82ms/step - loss: 0.8192\n",
            "Epoch 28/100\n",
            "582/582 [==============================] - 47s 81ms/step - loss: 0.7650\n",
            "Epoch 29/100\n",
            "582/582 [==============================] - 47s 81ms/step - loss: 0.7192\n",
            "Epoch 30/100\n",
            "582/582 [==============================] - 47s 81ms/step - loss: 0.6765\n",
            "Epoch 31/100\n",
            "582/582 [==============================] - 47s 81ms/step - loss: 0.6213\n",
            "Epoch 32/100\n",
            "582/582 [==============================] - 47s 81ms/step - loss: 0.5915\n",
            "Epoch 33/100\n",
            "582/582 [==============================] - 47s 81ms/step - loss: 0.5400\n",
            "Epoch 34/100\n",
            "582/582 [==============================] - 47s 81ms/step - loss: 0.5061\n",
            "Epoch 35/100\n",
            "582/582 [==============================] - 47s 81ms/step - loss: 0.4720\n",
            "Epoch 36/100\n",
            "582/582 [==============================] - 47s 81ms/step - loss: 0.4445\n",
            "Epoch 37/100\n",
            "582/582 [==============================] - 47s 81ms/step - loss: 0.4104\n",
            "Epoch 38/100\n",
            "582/582 [==============================] - 47s 81ms/step - loss: 0.3944\n",
            "Epoch 39/100\n",
            "582/582 [==============================] - 48s 82ms/step - loss: 0.3905\n",
            "Epoch 40/100\n",
            "582/582 [==============================] - 47s 81ms/step - loss: 0.3545\n",
            "Epoch 41/100\n",
            "582/582 [==============================] - 47s 81ms/step - loss: 0.3365\n",
            "Epoch 42/100\n",
            "582/582 [==============================] - 47s 81ms/step - loss: 0.3157\n",
            "Epoch 43/100\n",
            "582/582 [==============================] - 47s 81ms/step - loss: 0.3022\n",
            "Epoch 44/100\n",
            "582/582 [==============================] - 47s 82ms/step - loss: 0.2847\n",
            "Epoch 45/100\n",
            "582/582 [==============================] - 47s 81ms/step - loss: 0.2635\n",
            "Epoch 46/100\n",
            "582/582 [==============================] - 47s 82ms/step - loss: 0.2638\n",
            "Epoch 47/100\n",
            "582/582 [==============================] - 47s 81ms/step - loss: 0.2577\n",
            "Epoch 48/100\n",
            "582/582 [==============================] - 47s 81ms/step - loss: 0.2660\n",
            "Epoch 49/100\n",
            "582/582 [==============================] - 47s 81ms/step - loss: 0.4354\n",
            "Epoch 50/100\n",
            "582/582 [==============================] - 47s 81ms/step - loss: 0.2466\n",
            "Epoch 51/100\n",
            "582/582 [==============================] - 47s 81ms/step - loss: 0.2588\n",
            "Epoch 52/100\n",
            "582/582 [==============================] - 47s 81ms/step - loss: 0.2319\n",
            "Epoch 53/100\n",
            "582/582 [==============================] - 47s 82ms/step - loss: 0.2145\n",
            "Epoch 54/100\n",
            "582/582 [==============================] - 47s 82ms/step - loss: 0.2086\n",
            "Epoch 55/100\n",
            "582/582 [==============================] - 47s 81ms/step - loss: 0.2127\n",
            "Epoch 56/100\n",
            "582/582 [==============================] - 47s 81ms/step - loss: 0.2175\n",
            "Epoch 57/100\n",
            "582/582 [==============================] - 47s 81ms/step - loss: 0.2138\n",
            "Epoch 58/100\n",
            "582/582 [==============================] - 47s 81ms/step - loss: 0.2247\n",
            "Epoch 59/100\n",
            "582/582 [==============================] - 47s 81ms/step - loss: 0.6503\n",
            "Epoch 60/100\n",
            "582/582 [==============================] - 47s 81ms/step - loss: 0.2973\n",
            "Epoch 61/100\n",
            "582/582 [==============================] - 47s 81ms/step - loss: 0.5215\n",
            "Epoch 62/100\n",
            "582/582 [==============================] - 47s 81ms/step - loss: 0.5473\n",
            "Epoch 63/100\n",
            "582/582 [==============================] - 47s 81ms/step - loss: 0.5490\n",
            "Epoch 64/100\n",
            "582/582 [==============================] - 47s 81ms/step - loss: 0.4441\n",
            "Epoch 65/100\n",
            "582/582 [==============================] - 47s 81ms/step - loss: 0.4964\n",
            "Epoch 66/100\n",
            "582/582 [==============================] - 47s 81ms/step - loss: 0.5092\n",
            "Epoch 67/100\n",
            "582/582 [==============================] - 47s 81ms/step - loss: 0.5525\n",
            "Epoch 68/100\n",
            "582/582 [==============================] - 47s 81ms/step - loss: 1.0296\n",
            "Epoch 69/100\n",
            "582/582 [==============================] - 47s 81ms/step - loss: 2.4705\n",
            "Epoch 70/100\n",
            "582/582 [==============================] - 47s 81ms/step - loss: 2.2822\n",
            "Epoch 71/100\n",
            "582/582 [==============================] - 47s 81ms/step - loss: 3.5843\n",
            "Epoch 72/100\n",
            "582/582 [==============================] - 47s 81ms/step - loss: 3.9346\n",
            "Epoch 73/100\n",
            "582/582 [==============================] - 47s 81ms/step - loss: 3.3706\n",
            "Epoch 74/100\n",
            "582/582 [==============================] - 47s 81ms/step - loss: 2.9499\n",
            "Epoch 75/100\n",
            "582/582 [==============================] - 47s 81ms/step - loss: 2.5595\n",
            "Epoch 76/100\n",
            "582/582 [==============================] - 47s 81ms/step - loss: 2.3107\n",
            "Epoch 77/100\n",
            "582/582 [==============================] - 47s 81ms/step - loss: 2.1426\n",
            "Epoch 78/100\n",
            "582/582 [==============================] - 47s 81ms/step - loss: 2.0030\n",
            "Epoch 79/100\n",
            "582/582 [==============================] - 47s 81ms/step - loss: 1.8860\n",
            "Epoch 80/100\n",
            "582/582 [==============================] - 48s 82ms/step - loss: 1.7910\n",
            "Epoch 81/100\n",
            "582/582 [==============================] - 47s 81ms/step - loss: 1.7044\n",
            "Epoch 82/100\n",
            "582/582 [==============================] - 47s 81ms/step - loss: 1.6225\n",
            "Epoch 83/100\n",
            "582/582 [==============================] - 47s 81ms/step - loss: 1.5423\n",
            "Epoch 84/100\n",
            "582/582 [==============================] - 47s 81ms/step - loss: 1.4698\n",
            "Epoch 85/100\n",
            "582/582 [==============================] - 47s 81ms/step - loss: 1.3885\n",
            "Epoch 86/100\n",
            "582/582 [==============================] - 47s 81ms/step - loss: 1.3195\n",
            "Epoch 87/100\n",
            "582/582 [==============================] - 47s 81ms/step - loss: 1.2441\n",
            "Epoch 88/100\n",
            "582/582 [==============================] - 47s 81ms/step - loss: 1.1702\n",
            "Epoch 89/100\n",
            "582/582 [==============================] - 47s 81ms/step - loss: 1.1157\n",
            "Epoch 90/100\n",
            "582/582 [==============================] - 47s 81ms/step - loss: 1.0403\n",
            "Epoch 91/100\n",
            "582/582 [==============================] - 47s 81ms/step - loss: 0.9733\n",
            "Epoch 92/100\n",
            "582/582 [==============================] - 47s 81ms/step - loss: 0.9108\n",
            "Epoch 93/100\n",
            "582/582 [==============================] - 47s 82ms/step - loss: 0.8450\n",
            "Epoch 94/100\n",
            "582/582 [==============================] - 47s 82ms/step - loss: 0.8006\n",
            "Epoch 95/100\n",
            "582/582 [==============================] - 47s 81ms/step - loss: 0.7357\n",
            "Epoch 96/100\n",
            "582/582 [==============================] - 47s 81ms/step - loss: 0.6902\n",
            "Epoch 97/100\n",
            "582/582 [==============================] - 47s 82ms/step - loss: 0.6441\n",
            "Epoch 98/100\n",
            "582/582 [==============================] - 47s 81ms/step - loss: 0.6031\n",
            "Epoch 99/100\n",
            "582/582 [==============================] - 47s 81ms/step - loss: 0.5689\n",
            "Epoch 100/100\n",
            "582/582 [==============================] - 47s 81ms/step - loss: 0.5263\n"
          ]
        },
        {
          "data": {
            "text/plain": [
              "<keras.callbacks.History at 0x7fd2714bf0d0>"
            ]
          },
          "execution_count": 14,
          "metadata": {},
          "output_type": "execute_result"
        }
      ],
      "source": [
        "filepath = \"/content/drive/My Drive/{epoch:02d}-{loss:.4f}.h5\"\n",
        "\n",
        "checkpoint = ModelCheckpoint(filepath, monitor='loss',verbose=0,\n",
        "                             save_best_only=True,mode='min')\n",
        "\n",
        "callbacks_list = [checkpoint]\n",
        "model.fit(network_input, network_output, epochs=100, batch_size=64, \n",
        "          callbacks=callbacks_list)"
      ]
    },
    {
      "cell_type": "code",
      "execution_count": 17,
      "metadata": {
        "id": "C5FHJ6sq8HX7",
        "vscode": {
          "languageId": "python"
        }
      },
      "outputs": [],
      "source": [
        "# In case we want to use other previously trained weights\n",
        "weights = \"/content/drive/My Drive/54-0.2086.h5\"\n",
        "if(len(weights)>0): model.load_weights(weights)"
      ]
    },
    {
      "cell_type": "code",
      "execution_count": 18,
      "metadata": {
        "id": "qAdOj4d0ExMq",
        "vscode": {
          "languageId": "python"
        }
      },
      "outputs": [],
      "source": [
        "# Generate network input again\n",
        "network_input = []\n",
        "output = []\n",
        "for i in range(0, len(notes) - sequence_length, 1):\n",
        "  sequence_in = notes[i:i + sequence_length]\n",
        "  sequence_out = notes[i + sequence_length]\n",
        "  network_input.append([note_to_int[char] for char in sequence_in])\n",
        "  output.append(note_to_int[sequence_out])\n",
        "n_patterns = len(network_input)"
      ]
    },
    {
      "cell_type": "code",
      "execution_count": 39,
      "metadata": {
        "colab": {
          "base_uri": "https://localhost:8080/"
        },
        "id": "F2fkoEiw8HaI",
        "outputId": "1505db46-3d8e-4a83-bf85-b11bc2702356",
        "vscode": {
          "languageId": "python"
        }
      },
      "outputs": [
        {
          "name": "stdout",
          "output_type": "stream",
          "text": [
            " Predicted  499   D5"
          ]
        }
      ],
      "source": [
        "\"\"\" Generate notes from the neural network based on a sequence of notes \"\"\"\n",
        "# pick a random sequence from the input as a starting point for the prediction\n",
        "start = numpy.random.randint(0, len(network_input)-1)\n",
        "int_to_note = dict((number, note) for number, note in enumerate(pitchnames))\n",
        "pattern = network_input[start]\n",
        "prediction_output = []\n",
        "# generate 500 notes\n",
        "for i,note_index in enumerate(range(500)):\n",
        "  prediction_input = numpy.reshape(pattern, (1, len(pattern), 1))\n",
        "  prediction_input = prediction_input / float(n_vocab)\n",
        "  prediction = model.predict(prediction_input, verbose=0)\n",
        "  index = numpy.argmax(prediction)\n",
        "  result = int_to_note[index]\n",
        "  print('\\r', 'Predicted ', i, \" \",result, end='')\n",
        "  prediction_output.append(result)\n",
        "  pattern.append(index)\n",
        "  pattern = pattern[1:len(pattern)]"
      ]
    },
    {
      "cell_type": "code",
      "execution_count": 40,
      "metadata": {
        "colab": {
          "base_uri": "https://localhost:8080/",
          "height": 35
        },
        "id": "pub0aRJU8Hcu",
        "outputId": "f2ebe05b-29b5-40e6-a622-e57e721c0d5f",
        "vscode": {
          "languageId": "python"
        }
      },
      "outputs": [
        {
          "data": {
            "application/vnd.google.colaboratory.intrinsic+json": {
              "type": "string"
            },
            "text/plain": [
              "'x0.mid'"
            ]
          },
          "execution_count": 40,
          "metadata": {},
          "output_type": "execute_result"
        }
      ],
      "source": [
        "offset = 0\n",
        "output_notes = []\n",
        "# create note and chord objects based on the values generated by the model\n",
        "for pattern in prediction_output:\n",
        "    # pattern is a chord\n",
        "    if ('.' in pattern) or pattern.isdigit():\n",
        "        notes_in_chord = pattern.split('.')\n",
        "        notes = []\n",
        "        for current_note in notes_in_chord:\n",
        "            new_note = note.Note(int(current_note))\n",
        "            new_note.storedInstrument = instrument.Piano()\n",
        "            notes.append(new_note)\n",
        "        new_chord = chord.Chord(notes)\n",
        "        new_chord.offset = offset\n",
        "        output_notes.append(new_chord)\n",
        "    # pattern is a note\n",
        "    else:\n",
        "        new_note = note.Note(pattern)\n",
        "        new_note.offset = offset\n",
        "        new_note.storedInstrument = instrument.Piano()\n",
        "        output_notes.append(new_note)\n",
        "\n",
        "    # increase offset each iteration so that notes do not stack\n",
        "    offset += 0.5\n",
        "\n",
        "midi_stream = stream.Stream(output_notes)\n",
        "midi_stream.write('midi', fp='test.mid')"
      ]
    },
    {
      "cell_type": "code",
      "execution_count": null,
      "metadata": {
        "id": "6_MWlcL4QkjB",
        "vscode": {
          "languageId": "python"
        }
      },
      "outputs": [],
      "source": []
    }
  ],
  "metadata": {
    "accelerator": "GPU",
    "colab": {
      "provenance": []
    },
    "kernelspec": {
      "display_name": "Python 3",
      "name": "python3"
    }
  },
  "nbformat": 4,
  "nbformat_minor": 0
}
